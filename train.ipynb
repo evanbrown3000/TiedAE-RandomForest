{
 "cells": [
  {
   "cell_type": "code",
   "execution_count": null,
   "metadata": {},
   "outputs": [],
   "source": [
    "#TODO: increase size\n",
    "#TODO: change train to include labels, ignore for ae"
   ]
  },
  {
   "cell_type": "code",
   "execution_count": null,
   "metadata": {},
   "outputs": [],
   "source": [
    "from datetime import datetime\n",
    "import tensorflow as tf\n",
    "import keras\n",
    "import tensorflow_datasets as tfds\n",
    "import matplotlib.pyplot as plt\n",
    "from tensorflow.keras import Model, Sequential\n",
    "from tensorflow.keras.layers import Layer, Dense, Conv2D, Conv2DTranspose , LeakyReLU, Dropout, Flatten, Input, Reshape"
   ]
  },
  {
   "cell_type": "code",
   "execution_count": null,
   "metadata": {},
   "outputs": [],
   "source": [
    "#run for no gpu if needed\n",
    "tf.config.set_visible_devices([], 'GPU')\n",
    "\n",
    "DATA_DIR='/home/evan/Datasets/tensorflow'\n",
    "BATCH_SIZE=32\n",
    "BUFFER_SIZE = 10000\n",
    "IMG_SIZE = (64,64)\n",
    "EMBEDDED_DIM = 32\n",
    "\n",
    "train_dataset = tfds.load('stanford_dogs', as_supervised=True, split='train', data_dir=DATA_DIR, download=False)\n",
    "test_dataset = tfds.load('stanford_dogs', as_supervised=True, split='test', data_dir=DATA_DIR, download=False)\n",
    "\n",
    "def transform(x , y):\n",
    "    x = tf.image.resize(x, IMG_SIZE)\n",
    "    x = tf.cast(x, tf.float32)\n",
    "    x = (x - 127.5)/127.5\n",
    "    return x, y\n",
    "    \n",
    "# train_dataset = train_dataset.map(lambda x, y: (tf.cast(x, tf.uint8), y))\n",
    "\n",
    "def transform_ae(x,y):\n",
    "    return (x,x,y)\n",
    "\n",
    "def prepare_transformed(dataset):\n",
    "    return dataset.repeat().shuffle(BUFFER_SIZE).batch(BATCH_SIZE).prefetch(tf.data.experimental.AUTOTUNE)\n",
    "\n",
    "test_dataset = test_dataset.map(lambda x, y : transform(x,y))\n",
    "train_dataset = train_dataset.map(lambda x, y : transform(x,y))\n",
    "ae_dataset = train_dataset.map(lambda x, y : transform_ae(x,y))\n",
    "ae_dataset = prepare_transformed(ae_dataset)\n",
    "train_dataset = prepare_transformed(train_dataset)\n",
    "\n",
    "print(train_dataset)\n",
    "print(ae_dataset)\n",
    "print(test_dataset)"
   ]
  },
  {
   "cell_type": "code",
   "execution_count": null,
   "metadata": {},
   "outputs": [],
   "source": [
    "class Conv2DTransposeTied(Layer):\n",
    "    def __init__(self, conv2D, activation=None, **kwargs):\n",
    "        self.conv2D = conv2D\n",
    "        self.activation = keras.activations.get(activation)\n",
    "        super().__init__(**kwargs)\n",
    "    \n",
    "    def build(self, batch_input_shape):\n",
    "        self.biases = self.add_weight(name='bias', initializer ='zeros',\n",
    "                                      shape= self.conv2D.input_shape[1:]) #exclude batch dim\n",
    "    \n",
    "    def call(self, inputs):\n",
    "        print(inputs)\n",
    "        print(self.conv2D.input_shape)\n",
    "        Z = tf.nn.conv2d_transpose(inputs, self.conv2D.kernel, (BATCH_SIZE,) + self.conv2D.input_shape[1:], self.conv2D.strides, padding=self.conv2D.padding.upper())\n",
    "        return self.activation(Z + self.biases)"
   ]
  },
  {
   "cell_type": "code",
   "execution_count": null,
   "metadata": {},
   "outputs": [],
   "source": [
    "if load_ae = True:\n",
    "    autoencoder = keras.models.load_model('/home/evan/Desktop/Convolutional Random Forest/autoencoder')"
   ]
  },
  {
   "cell_type": "code",
   "execution_count": null,
   "metadata": {},
   "outputs": [],
   "source": [
    "class Autoencoder(Model):\n",
    "    def __init__(self):\n",
    "        super().__init__()\n",
    "        self.encoder = self.create_encoder()\n",
    "        self.decoder = self.create_decoder()\n",
    "        self.autoencoder = Sequential([self.encoder, self.decoder])\n",
    "\n",
    "    def create_encoder(self):\n",
    "        encoder_input_img = Input(IMG_SIZE+((3,)))\n",
    "        encoder_input_label = Input((1))\n",
    "        self.c1 = Conv2D(64, (5, 5), strides=(1, 1), padding='same', input_shape=IMG_SIZE+((3,)))\n",
    "        Z = self.c1(encoder_input_img)\n",
    "        Z = LeakyReLU()(Z)\n",
    "        Z = Dropout(0.3)(Z)\n",
    "\n",
    "        self.c2 = Conv2D(128, (5, 5), strides=(2, 2), padding='same')\n",
    "        Z = self.c2(Z)\n",
    "        Z = LeakyReLU()(Z)\n",
    "        Z = Dropout(0.3)(Z)\n",
    "\n",
    "        self.c3 = Conv2D(128, (5, 5), strides=(2, 2), padding='same')\n",
    "        Z = self.c3(Z)\n",
    "        Z = LeakyReLU()(Z)\n",
    "        Z = Dropout(0.3)(Z)\n",
    "        Z = Flatten()(Z)\n",
    "\n",
    "        self.latent_embedding = Dense(EMBEDDED_DIM)(Z)\n",
    "        return Model(encoder_input_img, self.latent_embedding)\n",
    "    \n",
    "    def create_decoder(self):\n",
    "        \n",
    "        I = Input(self.latent_embedding.shape)\n",
    "        Z = Dense(16*16*128)(I)\n",
    "        Z = Reshape((16,16,128))(Z)\n",
    "\n",
    "\n",
    "        c3T = Conv2DTransposeTied(c3)(Z)\n",
    "        c3Ta = LeakyReLU()(c3T)\n",
    "        c3Td = Dropout(0.3)(c3Ta)\n",
    "\n",
    "        c2T = Conv2DTransposeTied(c2)(c3Td)\n",
    "        c2Ta = LeakyReLU()(c2T)\n",
    "        c2Td = Dropout(0.3)(c2Ta)\n",
    "\n",
    "        c1T = Conv2DTransposeTied(c1)(c2T)\n",
    "        c1Ta = LeakyReLU()(c1T)\n",
    "        c1Td = Dropout(0.3)(c1Ta)\n",
    "\n",
    "        decoder_output = c1Td\n",
    "        return Model(I, decoder_output)\n",
    "        \n",
    "    def call(self, inputs):\n",
    "        return self.autoencoder(inputs)\n",
    "\n",
    "Autoencoder()"
   ]
  },
  {
   "cell_type": "code",
   "execution_count": null,
   "metadata": {},
   "outputs": [],
   "source": [
    "optimizer=tf.keras.optimizers.Adam(lr=.001)\n",
    "\n",
    "autoencoder =Autoencoder()\n",
    "\n",
    "autoencoder.compile(optimizer=optimizer, loss='mse')\n",
    "\n",
    "autoencoder.fit(ae_dataset, epochs=100, steps_per_epoch=100)"
   ]
  },
  {
   "cell_type": "code",
   "execution_count": null,
   "metadata": {},
   "outputs": [],
   "source": [
    "time = datetime.now().strftime(\"%m/%d/%Y, %H:%M:%S\")\n",
    "Autoencoder.save('./autoencoder'+time)"
   ]
  },
  {
   "cell_type": "code",
   "execution_count": null,
   "metadata": {},
   "outputs": [],
   "source": [
    "predictions = autoencoder.predict(train_dataset.take(1))\n",
    "fig = plt.figure(figsize=(8,4))\n",
    "\n",
    "for i in range(predictions.shape[0]):\n",
    "    plt.subplot(4, 8, i+1)\n",
    "    plt.imshow(((predictions[i, :, :, :]*127.5)+127.5)/255.)\n",
    "    plt.axis('off')"
   ]
  },
  {
   "cell_type": "code",
   "execution_count": null,
   "metadata": {},
   "outputs": [],
   "source": [
    "rf_dataset = train_dataset.map(lambda x,y : ((x,y),y))\n",
    "encoder = keras.Model([encoder_input_img,encoder_input_label],[encoder_output_img, encoder_input_label])\n",
    "print(rf_dataset)\n",
    "rf_dataset = encoder.predict(rf_dataset, steps=1000) "
   ]
  },
  {
   "cell_type": "code",
   "execution_count": null,
   "metadata": {},
   "outputs": [],
   "source": [
    "rf_dataset[0].shape\n",
    "rf_dataset[1].shape"
   ]
  },
  {
   "cell_type": "code",
   "execution_count": null,
   "metadata": {},
   "outputs": [],
   "source": [
    "rf_image_dataset = tf.data.Dataset.from_tensor_slices(rf_dataset[0])\n",
    "rf_label_dataset = tf.data.Dataset.from_tensor_slices(rf_dataset[1])\n",
    "rf_combined_dataset = tf.data.Dataset.zip(((rf_image_dataset),(rf_label_dataset)))"
   ]
  },
  {
   "cell_type": "code",
   "execution_count": null,
   "metadata": {},
   "outputs": [],
   "source": [
    "rf_combined_dataset"
   ]
  },
  {
   "cell_type": "code",
   "execution_count": null,
   "metadata": {},
   "outputs": [],
   "source": []
  },
  {
   "cell_type": "code",
   "execution_count": null,
   "metadata": {},
   "outputs": [],
   "source": [
    "import tensorflow_decision_forests as tfdf\n",
    "from tensorflow.keras import Sequential\n",
    "import keras\n",
    "\n",
    "#run encoder to get embeddings\n",
    "# (encoder_output)\n",
    "rf_model = tfdf.keras.RandomForestModel()\n",
    "rf_model.fit(rf_dataset[0],rf_dataset[1])"
   ]
  },
  {
   "cell_type": "code",
   "execution_count": null,
   "metadata": {},
   "outputs": [],
   "source": [
    "def run_inference(rf_model, encoder, input):\n",
    "    embeddings = encoder.predict(input,tf.ones(input.shape[0]))\n",
    "    return rf_model.predict(embeddings)\n",
    "run_inference(rf_model, encoder, rf_dataset[0])"
   ]
  }
 ],
 "metadata": {
  "interpreter": {
   "hash": "8ef37928cbe5219b2fcf8404ea29b31b1a966345f86328e41ae7ac18a87552f8"
  },
  "kernelspec": {
   "display_name": "Python 3.9.7 64-bit ('tensorflow': conda)",
   "name": "python3"
  },
  "language_info": {
   "codemirror_mode": {
    "name": "ipython",
    "version": 3
   },
   "file_extension": ".py",
   "mimetype": "text/x-python",
   "name": "python",
   "nbconvert_exporter": "python",
   "pygments_lexer": "ipython3",
   "version": "3.9.7"
  },
  "orig_nbformat": 4
 },
 "nbformat": 4,
 "nbformat_minor": 2
}
