{
 "cells": [
  {
   "cell_type": "code",
   "execution_count": null,
   "metadata": {},
   "outputs": [],
   "source": [
    "#TODO: increase size\n",
    "#TODO: change train to include labels, ignore for ae"
   ]
  },
  {
   "cell_type": "code",
   "execution_count": null,
   "metadata": {},
   "outputs": [],
   "source": [
    "import tensorflow as tf\n",
    "import tensorflow_datasets as tfds\n",
    "import matplotlib.pyplot as plt"
   ]
  },
  {
   "cell_type": "code",
   "execution_count": null,
   "metadata": {},
   "outputs": [],
   "source": [
    "DATA_DIR='/home/evan/Datasets/tensorflow'\n",
    "BATCH_SIZE=32\n",
    "BUFFER_SIZE = 10000\n",
    "IMG_SIZE = (64,64)\n",
    "\n",
    "train_dataset = tfds.load('stanford_dogs', as_supervised=True, split='train', data_dir=DATA_DIR, download=False)\n",
    "test_dataset = tfds.load('stanford_dogs', as_supervised=True, split='test', data_dir=DATA_DIR, download=False)\n",
    "\n",
    "def transform(x , y):\n",
    "    x = tf.image.resize(x, IMG_SIZE)\n",
    "    x = tf.cast(x, tf.float32)\n",
    "    x = (x - 127.5)/127.5\n",
    "    return x, y\n",
    "    \n",
    "# train_dataset = train_dataset.map(lambda x, y: (tf.cast(x, tf.uint8), y))\n",
    "\n",
    "def transform_ae(x,y):\n",
    "    return (x,x,y)\n",
    "\n",
    "test_dataset = test_dataset.map(lambda x, y : transform(x,y))\n",
    "\n",
    "train_dataset = train_dataset.map(lambda x, y : transform(x,y))\n",
    "ae_dataset = train_dataset.map(lambda x, y : transform_ae(x,y))\n",
    "ae_dataset = ae_dataset.repeat().shuffle(BUFFER_SIZE).batch(BATCH_SIZE).prefetch(tf.data.experimental.AUTOTUNE)\n",
    "train_dataset = train_dataset.repeat().shuffle(BUFFER_SIZE).batch(BATCH_SIZE).prefetch(tf.data.experimental.AUTOTUNE)\n",
    "print(train_dataset)\n",
    "print(ae_dataset)\n",
    "print(test_dataset)"
   ]
  },
  {
   "cell_type": "code",
   "execution_count": null,
   "metadata": {},
   "outputs": [],
   "source": [
    "batch = next(train_dataset.as_numpy_iterator())[0]"
   ]
  },
  {
   "cell_type": "code",
   "execution_count": null,
   "metadata": {},
   "outputs": [],
   "source": [
    "batch[1].sum()"
   ]
  },
  {
   "cell_type": "code",
   "execution_count": null,
   "metadata": {},
   "outputs": [],
   "source": [
    "plt.imshow(((batch[1] *127.5)+127.5)/255.)"
   ]
  },
  {
   "cell_type": "code",
   "execution_count": null,
   "metadata": {},
   "outputs": [],
   "source": [
    "[3]+[3]"
   ]
  },
  {
   "cell_type": "code",
   "execution_count": null,
   "metadata": {},
   "outputs": [],
   "source": []
  },
  {
   "cell_type": "code",
   "execution_count": 5,
   "metadata": {},
   "outputs": [],
   "source": [
    "from tensorflow.keras import Model\n",
    "from tensorflow.keras.layers import Layer, Dense, Conv2D, Conv2DTranspose , LeakyReLU, Dropout, Flatten, Input, Reshape"
   ]
  },
  {
   "cell_type": "code",
   "execution_count": null,
   "metadata": {},
   "outputs": [],
   "source": [
    "#TODO: include option for use_bias = False\n",
    "def Conv2DTransposeTied(Layer):\n",
    "    def __init__(self, conv2D, activation=None, **kwargs):\n",
    "        self.conv2D = conv2D\n",
    "        self.activation = keras.activations.get(activation)\n",
    "        super().__init__(**kwargs)\n",
    "    \n",
    "    def build(self, batch_input_shape):\n",
    "        self.biases = self.add_weight(name='bias', initializer ='zeros'\n",
    "                                      shape= [self.conv2D.input_shape[-1]]) #out_channels shape\n",
    "    \n",
    "    def call(self, inputs):\n",
    "        Z = tf.matmul(inputs, self.conv2D.weights, transpose_b = True)\n",
    "        return self.activation(Z + self.bases)"
   ]
  },
  {
   "cell_type": "code",
   "execution_count": null,
   "metadata": {},
   "outputs": [],
   "source": [
    "\n",
    "\n",
    "EMBEDDED_DIM = 32\n",
    "\n",
    "encoder_input_img = Input(IMG_SIZE+((3,)))\n",
    "encoder_input_label = Input((1))\n",
    "Z = Conv2D(64, (5, 5), strides=(1, 1), padding='same', input_shape=IMG_SIZE+((3,)))(encoder_input_img)\n",
    "Z = LeakyReLU()(Z)\n",
    "Z = Dropout(0.3)(Z)\n",
    "\n",
    "Z = Conv2D(128, (5, 5), strides=(2, 2), padding='same')(Z)\n",
    "Z = LeakyReLU()(Z)\n",
    "Z = Dropout(0.3)(Z)\n",
    "\n",
    "Z = Conv2D(128, (5, 5), strides=(2, 2), padding='same')(Z)\n",
    "Z = LeakyReLU()(Z)\n",
    "Z = Dropout(0.3)(Z)\n",
    "\n",
    "Z = Flatten()(Z)\n",
    "encoder_output_img = Dense(EMBEDDED_DIM)(Z)"
   ]
  },
  {
   "cell_type": "code",
   "execution_count": null,
   "metadata": {},
   "outputs": [],
   "source": [
    "Z = Dense(8*8*256)(encoder_output_img)\n",
    "Z = Reshape((8,8,256))(Z)\n",
    "\n",
    "Z = Conv2D(128, (5, 5), strides=(1, 1), padding='same')(Z)\n",
    "Z = LeakyReLU()(Z)\n",
    "Z = Dropout(0.3)(Z)\n",
    "\n",
    "Z = Conv2DTranspose(64, (5,5), strides=(2,2), padding='same')(Z)\n",
    "Z = LeakyReLU()(Z)\n",
    "Z = Dropout(0.3)(Z)\n",
    "\n",
    "Z = Conv2DTranspose(64, (5,5), strides=(2,2), padding='same')(Z)\n",
    "Z = LeakyReLU()(Z)\n",
    "Z = Dropout(0.3)(Z)\n",
    "\n",
    "decoder_output = Conv2DTranspose(3, (5, 5), strides=(2, 2), padding='same',activation=None)(Z)\n",
    "\n",
    "autoencoder = Model(encoder_input_img, decoder_output)\n",
    "autoencoder.output"
   ]
  },
  {
   "cell_type": "code",
   "execution_count": null,
   "metadata": {},
   "outputs": [],
   "source": [
    "optimizer=tf.keras.optimizers.Adam(lr=.001)\n",
    "\n",
    "autoencoder.compile(optimizer=optimizer, loss='mse')"
   ]
  },
  {
   "cell_type": "code",
   "execution_count": null,
   "metadata": {},
   "outputs": [],
   "source": [
    "autoencoder.fit(ae_dataset, epochs=100, steps_per_epoch=100)"
   ]
  },
  {
   "cell_type": "code",
   "execution_count": null,
   "metadata": {},
   "outputs": [],
   "source": [
    "# autoencoder.save('./autoencoder')"
   ]
  },
  {
   "cell_type": "code",
   "execution_count": null,
   "metadata": {},
   "outputs": [],
   "source": [
    "import keras\n",
    "autoencoder = keras.models.load_model('/home/evan/Desktop/Convolutional Random Forest/autoencoder')"
   ]
  },
  {
   "cell_type": "code",
   "execution_count": null,
   "metadata": {},
   "outputs": [],
   "source": [
    "predictions = autoencoder.predict(train_dataset.take(1))\n",
    "fig = plt.figure(figsize=(8,4))\n",
    "\n",
    "for i in range(predictions.shape[0]):\n",
    "    plt.subplot(4, 8, i+1)\n",
    "    plt.imshow(((predictions[i, :, :, :]*127.5)+127.5)/255.)\n",
    "    plt.axis('off')"
   ]
  },
  {
   "cell_type": "code",
   "execution_count": null,
   "metadata": {},
   "outputs": [],
   "source": [
    "rf_dataset = train_dataset.map(lambda x,y : ((x,y),y))\n",
    "encoder = keras.Model([encoder_input_img,encoder_input_label],[encoder_output_img, encoder_input_label])\n",
    "print(rf_dataset)\n",
    "rf_dataset = encoder.predict(rf_dataset, steps=1000) "
   ]
  },
  {
   "cell_type": "code",
   "execution_count": null,
   "metadata": {},
   "outputs": [],
   "source": [
    "rf_dataset[0].shape\n",
    "rf_dataset[1].shape"
   ]
  },
  {
   "cell_type": "code",
   "execution_count": null,
   "metadata": {},
   "outputs": [],
   "source": [
    "rf_image_dataset = tf.data.Dataset.from_tensor_slices(rf_dataset[0])\n",
    "rf_label_dataset = tf.data.Dataset.from_tensor_slices(rf_dataset[1])\n",
    "rf_combined_dataset = tf.data.Dataset.zip(((rf_image_dataset),(rf_label_dataset)))"
   ]
  },
  {
   "cell_type": "code",
   "execution_count": null,
   "metadata": {},
   "outputs": [],
   "source": [
    "rf_combined_dataset"
   ]
  },
  {
   "cell_type": "code",
   "execution_count": null,
   "metadata": {},
   "outputs": [],
   "source": []
  },
  {
   "cell_type": "code",
   "execution_count": null,
   "metadata": {},
   "outputs": [],
   "source": [
    "import tensorflow_decision_forests as tfdf\n",
    "from tensorflow.keras import Sequential\n",
    "import keras\n",
    "\n",
    "#run encoder to get embeddings\n",
    "# (encoder_output)\n",
    "rf_model = tfdf.keras.RandomForestModel()\n",
    "rf_model.fit(rf_dataset[0],rf_dataset[1])"
   ]
  },
  {
   "cell_type": "code",
   "execution_count": 1,
   "metadata": {},
   "outputs": [
    {
     "ename": "NameError",
     "evalue": "name 'rf_model' is not defined",
     "output_type": "error",
     "traceback": [
      "\u001b[0;31m---------------------------------------------------------------------------\u001b[0m",
      "\u001b[0;31mNameError\u001b[0m                                 Traceback (most recent call last)",
      "\u001b[0;32m/tmp/ipykernel_20516/2382309439.py\u001b[0m in \u001b[0;36m<module>\u001b[0;34m\u001b[0m\n\u001b[1;32m      2\u001b[0m     \u001b[0membeddings\u001b[0m \u001b[0;34m=\u001b[0m \u001b[0mencoder\u001b[0m\u001b[0;34m.\u001b[0m\u001b[0mpredict\u001b[0m\u001b[0;34m(\u001b[0m\u001b[0minput\u001b[0m\u001b[0;34m,\u001b[0m\u001b[0mtf\u001b[0m\u001b[0;34m.\u001b[0m\u001b[0mones\u001b[0m\u001b[0;34m(\u001b[0m\u001b[0minput\u001b[0m\u001b[0;34m.\u001b[0m\u001b[0mshape\u001b[0m\u001b[0;34m[\u001b[0m\u001b[0;36m0\u001b[0m\u001b[0;34m]\u001b[0m\u001b[0;34m)\u001b[0m\u001b[0;34m)\u001b[0m\u001b[0;34m\u001b[0m\u001b[0;34m\u001b[0m\u001b[0m\n\u001b[1;32m      3\u001b[0m     \u001b[0;32mreturn\u001b[0m \u001b[0mrf_model\u001b[0m\u001b[0;34m.\u001b[0m\u001b[0mpredict\u001b[0m\u001b[0;34m(\u001b[0m\u001b[0membeddings\u001b[0m\u001b[0;34m)\u001b[0m\u001b[0;34m\u001b[0m\u001b[0;34m\u001b[0m\u001b[0m\n\u001b[0;32m----> 4\u001b[0;31m \u001b[0mrun_inference\u001b[0m\u001b[0;34m(\u001b[0m\u001b[0mrf_model\u001b[0m\u001b[0;34m,\u001b[0m \u001b[0mencoder\u001b[0m\u001b[0;34m,\u001b[0m \u001b[0mrf_dataset\u001b[0m\u001b[0;34m[\u001b[0m\u001b[0;36m0\u001b[0m\u001b[0;34m]\u001b[0m\u001b[0;34m)\u001b[0m\u001b[0;34m\u001b[0m\u001b[0;34m\u001b[0m\u001b[0m\n\u001b[0m",
      "\u001b[0;31mNameError\u001b[0m: name 'rf_model' is not defined"
     ]
    }
   ],
   "source": [
    "def run_inference(rf_model, encoder, input):\n",
    "    embeddings = encoder.predict(input,tf.ones(input.shape[0]))\n",
    "    return rf_model.predict(embeddings)\n",
    "run_inference(rf_model, encoder, rf_dataset[0])"
   ]
  }
 ],
 "metadata": {
  "interpreter": {
   "hash": "8ef37928cbe5219b2fcf8404ea29b31b1a966345f86328e41ae7ac18a87552f8"
  },
  "kernelspec": {
   "display_name": "Python 3.9.7 64-bit ('tensorflow': conda)",
   "name": "python3"
  },
  "language_info": {
   "codemirror_mode": {
    "name": "ipython",
    "version": 3
   },
   "file_extension": ".py",
   "mimetype": "text/x-python",
   "name": "python",
   "nbconvert_exporter": "python",
   "pygments_lexer": "ipython3",
   "version": "3.9.7"
  },
  "orig_nbformat": 4
 },
 "nbformat": 4,
 "nbformat_minor": 2
}
